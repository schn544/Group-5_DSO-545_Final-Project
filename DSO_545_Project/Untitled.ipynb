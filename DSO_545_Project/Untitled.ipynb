{
 "cells": [
  {
   "cell_type": "code",
   "execution_count": 9,
   "id": "6ff09bac",
   "metadata": {},
   "outputs": [
    {
     "name": "stdout",
     "output_type": "stream",
     "text": [
      "  Food product  Land use change  Animal Feed        Farm  Processing  \\\n",
      "3          LAX              4.0          8.0  42965654.0  14057650.0   \n",
      "4          JFK              4.0          6.0  31123436.0   8286326.0   \n",
      "5          ORD              8.0          4.0  40887890.0  14613209.0   \n",
      "6          ATL              5.0          2.0  53505357.0  20559853.0   \n",
      "7          DFW              7.0          5.0  35785318.0  18595214.0   \n",
      "\n",
      "                  Transport                 Packging  \\\n",
      "3           London�Heathrow  Paris�Charles de Gaulle   \n",
      "4           London�Heathrow  Paris�Charles de Gaulle   \n",
      "5           London�Heathrow          Toronto�Pearson   \n",
      "6  Fort Lauderdale, Florida         Orlando, Florida   \n",
      "7   Los Angeles, California           Canc�n, Mexico   \n",
      "\n",
      "                            Retail  Total_emissions  Origin  \n",
      "3                      Mexico City            100.0  Animal  \n",
      "4                      Mexico City            100.0  Animal  \n",
      "5          Los Angeles, California            100.0  Animal  \n",
      "6  Paris-Charles de Gaulle, France            100.0  Animal  \n",
      "7  London�Heathrow, United Kingdom            100.0  Animal  \n"
     ]
    }
   ],
   "source": [
    "import dash\n",
    "from dash import html\n",
    "from dash import dcc\n",
    "from dash.dependencies import Input, Output, State\n",
    "import dash_daq as daq\n",
    "import dash_bootstrap_components as dbc\n",
    "import numpy as np\n",
    "import pandas as pd\n",
    "import plotly.graph_objs as go\n",
    "import plotly.express as px\n",
    "\n",
    "emissions = pd.read_csv(\"emissions_with_origin.csv\")\n",
    "\n",
    "top8_animal = emissions[emissions.Origin=='Animal'].sort_values(\"Total_emissions\")[-5:]\n",
    "\n",
    "print(top8_animal)"
   ]
  },
  {
   "cell_type": "code",
   "execution_count": null,
   "id": "2f01bcd0",
   "metadata": {},
   "outputs": [],
   "source": []
  },
  {
   "cell_type": "code",
   "execution_count": null,
   "id": "6ff6e5cb",
   "metadata": {},
   "outputs": [],
   "source": []
  }
 ],
 "metadata": {
  "kernelspec": {
   "display_name": "Python 3",
   "language": "python",
   "name": "python3"
  },
  "language_info": {
   "codemirror_mode": {
    "name": "ipython",
    "version": 3
   },
   "file_extension": ".py",
   "mimetype": "text/x-python",
   "name": "python",
   "nbconvert_exporter": "python",
   "pygments_lexer": "ipython3",
   "version": "3.8.8"
  }
 },
 "nbformat": 4,
 "nbformat_minor": 5
}
