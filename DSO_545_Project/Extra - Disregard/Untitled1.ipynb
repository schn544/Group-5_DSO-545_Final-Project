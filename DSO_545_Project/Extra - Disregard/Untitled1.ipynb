{
 "cells": [
  {
   "cell_type": "code",
   "execution_count": 5,
   "id": "e26920a8",
   "metadata": {},
   "outputs": [
    {
     "data": {
      "text/html": [
       "<div>\n",
       "<style scoped>\n",
       "    .dataframe tbody tr th:only-of-type {\n",
       "        vertical-align: middle;\n",
       "    }\n",
       "\n",
       "    .dataframe tbody tr th {\n",
       "        vertical-align: top;\n",
       "    }\n",
       "\n",
       "    .dataframe thead th {\n",
       "        text-align: right;\n",
       "    }\n",
       "</style>\n",
       "<table border=\"1\" class=\"dataframe\">\n",
       "  <thead>\n",
       "    <tr style=\"text-align: right;\">\n",
       "      <th></th>\n",
       "      <th>Runways</th>\n",
       "      <th>Terminals</th>\n",
       "      <th>Passenger_19</th>\n",
       "      <th>Passenger_20</th>\n",
       "      <th>Top_Dest</th>\n",
       "      <th>Dest_2</th>\n",
       "      <th>Dest_3</th>\n",
       "    </tr>\n",
       "    <tr>\n",
       "      <th>Airport</th>\n",
       "      <th></th>\n",
       "      <th></th>\n",
       "      <th></th>\n",
       "      <th></th>\n",
       "      <th></th>\n",
       "      <th></th>\n",
       "      <th></th>\n",
       "    </tr>\n",
       "  </thead>\n",
       "  <tbody>\n",
       "    <tr>\n",
       "      <th>LAX</th>\n",
       "      <td>4</td>\n",
       "      <td>8</td>\n",
       "      <td>42965654</td>\n",
       "      <td>14057650</td>\n",
       "      <td>London, England</td>\n",
       "      <td>Paris Charles de Gaulle</td>\n",
       "      <td>Mexico City, Mexico</td>\n",
       "    </tr>\n",
       "    <tr>\n",
       "      <th>JFK</th>\n",
       "      <td>4</td>\n",
       "      <td>6</td>\n",
       "      <td>31123436</td>\n",
       "      <td>8286326</td>\n",
       "      <td>London, England</td>\n",
       "      <td>Paris Charles de Gaulle</td>\n",
       "      <td>Mexico City, Mexico</td>\n",
       "    </tr>\n",
       "    <tr>\n",
       "      <th>ORD</th>\n",
       "      <td>8</td>\n",
       "      <td>4</td>\n",
       "      <td>40887890</td>\n",
       "      <td>14613209</td>\n",
       "      <td>London, England</td>\n",
       "      <td>Toronto, Ontario, CN</td>\n",
       "      <td>Los Angeles, California</td>\n",
       "    </tr>\n",
       "    <tr>\n",
       "      <th>ATL</th>\n",
       "      <td>5</td>\n",
       "      <td>2</td>\n",
       "      <td>53505357</td>\n",
       "      <td>20559853</td>\n",
       "      <td>Fort Lauderdale, Florida</td>\n",
       "      <td>Orlando, Florida</td>\n",
       "      <td>Paris Charles de Gaulle, France</td>\n",
       "    </tr>\n",
       "    <tr>\n",
       "      <th>DFW</th>\n",
       "      <td>7</td>\n",
       "      <td>5</td>\n",
       "      <td>35785318</td>\n",
       "      <td>18595214</td>\n",
       "      <td>Los Angeles, California</td>\n",
       "      <td>Cancun, Mexico</td>\n",
       "      <td>London, England</td>\n",
       "    </tr>\n",
       "  </tbody>\n",
       "</table>\n",
       "</div>"
      ],
      "text/plain": [
       "         Runways  Terminals  Passenger_19  Passenger_20  \\\n",
       "Airport                                                   \n",
       "LAX            4          8      42965654      14057650   \n",
       "JFK            4          6      31123436       8286326   \n",
       "ORD            8          4      40887890      14613209   \n",
       "ATL            5          2      53505357      20559853   \n",
       "DFW            7          5      35785318      18595214   \n",
       "\n",
       "                         Top_Dest                   Dest_2  \\\n",
       "Airport                                                      \n",
       "LAX               London, England  Paris Charles de Gaulle   \n",
       "JFK               London, England  Paris Charles de Gaulle   \n",
       "ORD               London, England     Toronto, Ontario, CN   \n",
       "ATL      Fort Lauderdale, Florida         Orlando, Florida   \n",
       "DFW       Los Angeles, California           Cancun, Mexico   \n",
       "\n",
       "                                  Dest_3  \n",
       "Airport                                   \n",
       "LAX                  Mexico City, Mexico  \n",
       "JFK                  Mexico City, Mexico  \n",
       "ORD              Los Angeles, California  \n",
       "ATL      Paris Charles de Gaulle, France  \n",
       "DFW                      London, England  "
      ]
     },
     "execution_count": 5,
     "metadata": {},
     "output_type": "execute_result"
    }
   ],
   "source": [
    "import pandas as pd\n",
    "df = pd.read_csv('airport_boxes_data.csv',index_col=0)\n",
    "df"
   ]
  },
  {
   "cell_type": "code",
   "execution_count": 6,
   "id": "094089ea",
   "metadata": {
    "scrolled": true
   },
   "outputs": [
    {
     "data": {
      "text/plain": [
       "Runways                               4\n",
       "Terminals                             8\n",
       "Passenger_19                   42965654\n",
       "Passenger_20                   14057650\n",
       "Top_Dest                London, England\n",
       "Dest_2          Paris Charles de Gaulle\n",
       "Dest_3              Mexico City, Mexico\n",
       "Name: LAX, dtype: object"
      ]
     },
     "execution_count": 6,
     "metadata": {},
     "output_type": "execute_result"
    }
   ],
   "source": [
    "df.loc['LAX']"
   ]
  },
  {
   "cell_type": "code",
   "execution_count": 8,
   "id": "e38572b5",
   "metadata": {},
   "outputs": [
    {
     "data": {
      "text/plain": [
       "4"
      ]
     },
     "execution_count": 8,
     "metadata": {},
     "output_type": "execute_result"
    }
   ],
   "source": [
    "runways = df.loc['LAX'][0]\n",
    "runways"
   ]
  },
  {
   "cell_type": "code",
   "execution_count": 12,
   "id": "0ca8067a",
   "metadata": {},
   "outputs": [],
   "source": [
    "def data(x='LAX'):\n",
    "    runways = df.loc['LAX'][0]\n",
    "    terminals = df.loc['LAX'][1]\n",
    "    passen_19 = df.loc['LAX'][2]\n",
    "    passen_20 = df.loc['LAX'][3]\n",
    "    top1 = df.loc['LAX'][4]\n",
    "    top2 = df.loc['LAX'][5]\n",
    "    top3 = df.loc['LAX'][6]\n",
    "    \n",
    "    return runways,terminals, passen_19, passen_20, top1, top2, top3"
   ]
  },
  {
   "cell_type": "code",
   "execution_count": 13,
   "id": "26bc3b5d",
   "metadata": {},
   "outputs": [
    {
     "data": {
      "text/plain": [
       "(4,\n",
       " 8,\n",
       " 42965654,\n",
       " 14057650,\n",
       " 'London, England',\n",
       " 'Paris Charles de Gaulle',\n",
       " 'Mexico City, Mexico')"
      ]
     },
     "execution_count": 13,
     "metadata": {},
     "output_type": "execute_result"
    }
   ],
   "source": [
    "data('JFK')"
   ]
  }
 ],
 "metadata": {
  "kernelspec": {
   "display_name": "Python 3",
   "language": "python",
   "name": "python3"
  },
  "language_info": {
   "codemirror_mode": {
    "name": "ipython",
    "version": 3
   },
   "file_extension": ".py",
   "mimetype": "text/x-python",
   "name": "python",
   "nbconvert_exporter": "python",
   "pygments_lexer": "ipython3",
   "version": "3.8.8"
  }
 },
 "nbformat": 4,
 "nbformat_minor": 5
}
